{
 "cells": [
  {
   "cell_type": "code",
   "execution_count": 1,
   "metadata": {},
   "outputs": [],
   "source": [
    "import matplotlib.pyplot as plt \n",
    "import os \n",
    "import pandas as pd \n",
    "import numpy as np \n",
    "import seaborn as sns \n"
   ]
  },
  {
   "cell_type": "code",
   "execution_count": 3,
   "metadata": {},
   "outputs": [
    {
     "data": {
      "text/plain": [
       "['2022-10-25 11_26_06_7158471668040435376.mp4--5-185-1195-321-214_image.jpg',\n",
       " '2022-10-25 11_26_06_7158471668040435376.mp4--0-218-1236-250-205_image.jpg',\n",
       " '2022-10-25 11_26_06_7158471668040435376.mp4--1-229-1220-266-172_image.jpg',\n",
       " '2022-10-25 11_26_06_7158471668040435376.mp4--6-178-1178-325-226_image.jpg',\n",
       " '2022-10-25 11_26_06_7158471668040435376.mp4--8-165-1148-350-244_image.jpg',\n",
       " '2022-10-25 11_26_06_7158471668040435376.mp4--4-192-1201-323-194_image.jpg',\n",
       " '2022-10-25 11_26_06_7158471668040435376.mp4--2-224-1222-252-178_image.jpg',\n",
       " '2022-10-25 11_26_06_7158471668040435376.mp4--7-172-1165-334-234_image.jpg']"
      ]
     },
     "execution_count": 3,
     "metadata": {},
     "output_type": "execute_result"
    }
   ],
   "source": [
    "img_path = '../images/graph_images/'\n",
    "\n",
    "img_lst = [i for i in os.listdir(img_path) if i.endswith('.jpg')]\n"
   ]
  },
  {
   "cell_type": "code",
   "execution_count": null,
   "metadata": {},
   "outputs": [],
   "source": []
  }
 ],
 "metadata": {
  "kernelspec": {
   "display_name": "datascience",
   "language": "python",
   "name": "python3"
  },
  "language_info": {
   "codemirror_mode": {
    "name": "ipython",
    "version": 3
   },
   "file_extension": ".py",
   "mimetype": "text/x-python",
   "name": "python",
   "nbconvert_exporter": "python",
   "pygments_lexer": "ipython3",
   "version": "3.11.0"
  },
  "orig_nbformat": 4
 },
 "nbformat": 4,
 "nbformat_minor": 2
}
